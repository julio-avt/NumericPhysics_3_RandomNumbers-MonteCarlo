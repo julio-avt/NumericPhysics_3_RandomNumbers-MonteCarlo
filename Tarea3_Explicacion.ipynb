{
 "cells": [
  {
   "cell_type": "markdown",
   "id": "69589d50",
   "metadata": {},
   "source": [
    "# Física Numérica"
   ]
  },
  {
   "cell_type": "markdown",
   "id": "d8543f49",
   "metadata": {},
   "source": [
    "## Tarea 3"
   ]
  },
  {
   "cell_type": "markdown",
   "id": "e6d39364",
   "metadata": {},
   "source": [
    "1. **Generador de números aleatorios**\n",
    "\n",
    "    (a) Escriba un programa que genere números pseudo-aleatorios utilizando el método de congruencias lineales.\n",
    "    \n",
    "    (b) Con un objetivo pedagógico , pruebe su programa con $(a, c, M, x_0) =(57, 1, 256, 10)$. Determine el *periodo*, es decir,cuántos números deben generarse para que la sucesión se repita.\n",
    "    \n",
    "    (c) Tome la sucesión del inciso anterior, gra",
    "cando los pares $(x_{2i-1}, x_{2i}), i = 1, 2,\\dots$\n",
    "    \n",
    "    (d) Grafique $x_i$ *vs* $i$.\n",
    "    \n",
    "    (e) Existen diversos métodos para estudiar si un conjunto de números tiene o no una disribución uniforme. Investigue una de ellas,expliquela y aplique dicha prueba a los números generados con su programa.\n",
    "    \n",
    "    (f) Utilice la misma prueba para un conjunto de números generados \n",
    "    con al función *random* de Pyhton."
   ]
  },
  {
   "cell_type": "markdown",
   "id": "9a931ef1",
   "metadata": {},
   "source": [
    "* *Solución*:\n",
    "\n",
    "(a) Para este ejercicio haremos uso del método de congruencias lineales. Este método establece que para dada una semilla $r_0$ y $a, c, M$ enteros positivos, es posible generar una secuencia pseudo-aleatoria de números $0\\leq r_i \\leq M-1$ sobre el intervalo $[0, M-1]$.  \n",
    "La expresión para generar esta secuencia de números es la siguiente:\n",
    "$$r_{i+1} = ar_i + c  \\quad \\text{ mod } M\\tag{1}$$\n",
    "Para crear un programa que genere estos números pseudo-aleatorios crearemos una función llamada `congruencia_lineal` la cual tendrá como parámentros los valores de $r_0, a, c, M$ y guardará la secuencia de números generada por (1) en una lista.  \n",
    "La función es la siguiente:"
   ]
  },
  {
   "cell_type": "code",
   "execution_count": 32,
   "id": "7a2c484d",
   "metadata": {},
   "outputs": [],
   "source": [
    "def congruencia_lineal(a:int , c: int, M: int, r0)->list:\n",
    "    num = [r0]\n",
    "    for i in range(0, M):\n",
    "        ri = (a* num[i] + c)%M\n",
    "        num.append(ri)\n",
    "    return num\n"
   ]
  },
  {
   "cell_type": "markdown",
   "id": "a37cc30b",
   "metadata": {},
   "source": [
    "(b) Para este inciso pondremos a prueba la función definida anteriormente. Notemos que dentro de la función se ha usado un ciclo `for` con un rango de $(0,M)$. La razón de haber colocado el entero $M$ en ese rango es que después de repetir $M-1$ la fórmula de recursión (1) para generar el número $r_M$, obtenemos el mismo valor inicial $r_0$. Es decir:\n",
    "$$r_{M} = r_0$$\n",
    "Esto quiere decir que el periodo del método de cogruencias lineales está dado por el módulo $M$. Veamos lo anterior con un ejemplo pequeño en el que tomaremos $(a,c,M,r_0)=(1,1,9,5)$:"
   ]
  },
  {
   "cell_type": "code",
   "execution_count": 33,
   "id": "a8d3de6d",
   "metadata": {},
   "outputs": [
    {
     "name": "stdout",
     "output_type": "stream",
     "text": [
      "[5, 0, 1, 2, 3, 4, 5]\n"
     ]
    }
   ],
   "source": [
    "ejemplo1 = congruencia_lineal(1,1,6,5)\n",
    "print(ejemplo1)"
   ]
  },
  {
   "cell_type": "markdown",
   "id": "219dfbc3",
   "metadata": {},
   "source": [
    "Los elementos de la lista anterior son de la forma $[r_0,r_1,...,r_6]$, por lo que es claro que $r_6=r_0$. Esto comprueba que el periodo es el módulo, que en nuestro caso es $M=6$.\n",
    "\n",
    "Ahora hagamos el ejemplo que se nos pide en este inciso, donde podremos observar que $r_{256}=r_0$."
   ]
  },
  {
   "cell_type": "code",
   "execution_count": 34,
   "id": "3e4ab8ac",
   "metadata": {
    "scrolled": true
   },
   "outputs": [
    {
     "name": "stdout",
     "output_type": "stream",
     "text": [
      "[10, 59, 36, 5, 30, 175, 248, 57, 178, 163, 76, 237, 198, 23, 32, 33, 90, 11, 116, 213, 110, 127, 72, 9, 2, 115, 156, 189, 22, 231, 112, 241, 170, 219, 196, 165, 190, 79, 152, 217, 82, 67, 236, 141, 102, 183, 192, 193, 250, 171, 20, 117, 14, 31, 232, 169, 162, 19, 60, 93, 182, 135, 16, 145, 74, 123, 100, 69, 94, 239, 56, 121, 242, 227, 140, 45, 6, 87, 96, 97, 154, 75, 180, 21, 174, 191, 136, 73, 66, 179, 220, 253, 86, 39, 176, 49, 234, 27, 4, 229, 254, 143, 216, 25, 146, 131, 44, 205, 166, 247, 0, 1, 58, 235, 84, 181, 78, 95, 40, 233, 226, 83, 124, 157, 246, 199, 80, 209, 138, 187, 164, 133, 158, 47, 120, 185, 50, 35, 204, 109, 70, 151, 160, 161, 218, 139, 244, 85, 238, 255, 200, 137, 130, 243, 28, 61, 150, 103, 240, 113, 42, 91, 68, 37, 62, 207, 24, 89, 210, 195, 108, 13, 230, 55, 64, 65, 122, 43, 148, 245, 142, 159, 104, 41, 34, 147, 188, 221, 54, 7, 144, 17, 202, 251, 228, 197, 222, 111, 184, 249, 114, 99, 12, 173, 134, 215, 224, 225, 26, 203, 52, 149, 46, 63, 8, 201, 194, 51, 92, 125, 214, 167, 48, 177, 106, 155, 132, 101, 126, 15, 88, 153, 18, 3, 172, 77, 38, 119, 128, 129, 186, 107, 212, 53, 206, 223, 168, 105, 98, 211, 252, 29, 118, 71, 208, 81, 10]\n"
     ]
    }
   ],
   "source": [
    "ejemplo2 = congruencia_lineal(57,1,256,10)\n",
    "print(ejemplo2)"
   ]
  },
  {
   "cell_type": "markdown",
   "id": "ce41ac9e",
   "metadata": {},
   "source": [
    "(c) En esta parte graficaremos las parejas ordenadas $(r_{2i-1},r_{2i})$ donde consideraremos los elementos de la lista anterior. Para ello importaremos la siguiente librearia:"
   ]
  },
  {
   "cell_type": "code",
   "execution_count": 35,
   "id": "a773dc36",
   "metadata": {},
   "outputs": [],
   "source": [
    "import matplotlib.pyplot as plt"
   ]
  },
  {
   "cell_type": "markdown",
   "id": "52dc6cfe",
   "metadata": {},
   "source": [
    "Ahora debemos crear una una lista que contenga los elementos impares, y otra con los elementos pares.\n",
    "$$[r_1,r_3,...,r_{253},r_{255}]\\quad;\\quad[r_2,r_4,...,r_{254},r_{256}]$$\n",
    "Donde los elementos impares serán graficados en el eje $x$ y los pares ene el eje $y$."
   ]
  },
  {
   "cell_type": "code",
   "execution_count": 36,
   "id": "aa1cffed",
   "metadata": {},
   "outputs": [],
   "source": [
    "#Lista con los elementos impares a partir de r_1 hasta r_255\n",
    "x = [ejemplo2[i] for i in range(1,len(ejemplo2),2)]\n",
    "#Lista con los elementos pares a partir de r_2 hasta r_256\n",
    "y = [ejemplo2[i] for i in range(2,len(ejemplo2),2)]"
   ]
  },
  {
   "cell_type": "markdown",
   "id": "e62dca0f",
   "metadata": {},
   "source": [
    "Ya con las listas ``x`` y ``y`` graficaremos los puntos $(r_{2i-1},r_{2i})$, con $i=1,2,...,256$."
   ]
  },
  {
   "cell_type": "code",
   "execution_count": 37,
   "id": "2e326117",
   "metadata": {},
   "outputs": [
    {
     "data": {
      "image/png": "[encoded data removed]",
      "text/plain": [
       "<Figure size 432x432 with 1 Axes>"
      ]
     },
     "metadata": {
      "needs_background": "light"
     },
     "output_type": "display_data"
    }
   ],
   "source": [
    "plt.figure(figsize=(6, 6))#Damos tamaño a la figura\n",
    "plt.plot(x, y, 'r+') #Graficamos los puntos\n",
    "plt.xlabel('$r_{2i - 1}$',fontsize=20) #nombre del eje x\n",
    "plt.ylabel('$r_{2i}$',fontsize=20) #nombre del eje y\n",
    "plt.show() #Mostramos la gráfica"
   ]
  },
  {
   "cell_type": "markdown",
   "id": "b18224e0",
   "metadata": {},
   "source": [
    "Con este gráfico se puede visualizar que la generación de los números no es aleatoria, ya que es posible encontrar un patrón entre las parejas ordenadas $(r_{2i-1},r_{2i})$.\n",
    "\n",
    "(d) Ahora graficaremos $r_i$ *vs* $i$, con $i=1,2,...,256$. Para ello tomaremos los valores que hemos guardado en la lista llamada ``ejemplo2`. "
   ]
  },
  {
   "cell_type": "code",
   "execution_count": 38,
   "id": "f9c4c70e",
   "metadata": {},
   "outputs": [
    {
     "data": {
      "image/png": "[encoded data removed]",
      "text/plain": [
       "<Figure size 720x432 with 1 Axes>"
      ]
     },
     "metadata": {
      "needs_background": "light"
     },
     "output_type": "display_data"
    }
   ],
   "source": [
    "subindice = [i for i in range(1,257)] #Creamos la lista de subindices [1,2,...,256] que se usará en el eje x\n",
    "\n",
    "plt.figure(figsize=(10, 6))#Damos tamaño a la figura\n",
    "plt.plot(subindice, ejemplo2[1:257], 'r-+') #Graficamos los puntos\n",
    "plt.xlabel('Subindice $i$',fontsize=20) #nombre del eje x\n",
    "plt.ylabel('Numero pseudo-aleatorio $r_{i}$',fontsize=20) #nombre del eje y\n",
    "plt.show() #Mostramos la gráfica\n"
   ]
  },
  {
   "cell_type": "markdown",
   "id": "9780f985",
   "metadata": {},
   "source": [
    "La gráfica anterior contiene las parejas $(r_i,i)$ generadas en el inciso (b). Hemos conectado a los puntos a través de líneas para ver como fluctan de uno  a otro. No es sencillo ver como difieren de un término a otro, pero esto no es una prueba de que sean aleatorios."
   ]
  },
  {
   "cell_type": "markdown",
   "id": "1e962cc3",
   "metadata": {},
   "source": [
    "(e) Para ver si la distribución de los números pseudo-aleatorios generados tienen una distribución uniforme crearemos un histrograma para ver la frecuencia de estos números y ver que tan bien están distribuidos. Además, evaluaremos si los datos tienen una distribución Gaussiana.  \n",
    "La distribución Gaussiana (o normal) es una de las distribuciones de probabilidad que aparece mucho en estadística. Para saber si un conjunto de datos tiene una distribución Gaussiana a través de un histograma, las distribución de los datos deben de tener forma de campana. Por otro lado, la librería `scipy` incluye una función que realiza un test de *Shapiro-Wilk* que permite estimar si una distribución es Gaussiana o no. La función es `scipy.stats.shapiro` y como parámetro hay que ingresar un arreglo de valores. Esta función regresa dos valores flotantes: `estadistico` y `p-valor`. Para evaluar si es Gaussiana la distribción debe cumplirse que `p-valor > 0.05`. Si no se cumple, entonces no es Gaussiana.\n",
    "\n",
    "Primeramente generemos el histograma para el conjunto de numeros que hemos generado por el método de conguruencias lineales."
   ]
  },
  {
   "cell_type": "code",
   "execution_count": 39,
   "id": "ada3f5f2",
   "metadata": {
    "scrolled": true
   },
   "outputs": [
    {
     "data": {
      "image/png": "[encoded data removed]",
      "text/plain": [
       "<Figure size 432x288 with 1 Axes>"
      ]
     },
     "metadata": {
      "needs_background": "light"
     },
     "output_type": "display_data"
    }
   ],
   "source": [
    "#histograma\n",
    "plt.hist(ejemplo2, 15, color = \"green\", ec = \"black\")\n",
    "plt.title('Histograma de los numeros generados')\n",
    "plt.xlabel('Valor de la variab')\n",
    "plt.ylabel('Frecuencia')\n",
    "plt.show()"
   ]
  },
  {
   "cell_type": "markdown",
   "id": "05b6d26d",
   "metadata": {},
   "source": [
    "En el histograma anterior hemos creado 15 clases, y se puede observar que no se tiene una distribución Gaussiana ya que no se genera la campana. Estos números generados están uniformemente distribuidos, lo cual tiene sentido, ya que solo aparecen una vez antes de acuerdo a su periodo estimado en el inciso (b).  \n",
    "Ahora apliquemos el test de *Shapiro-Wilk*."
   ]
  },
  {
   "cell_type": "code",
   "execution_count": 40,
   "id": "52b01777",
   "metadata": {},
   "outputs": [
    {
     "name": "stdout",
     "output_type": "stream",
     "text": [
      "Estadisticos = 0.955\n",
      "p = 0.000295\n",
      "La muestra no es una distribución Gaussiana o Normal\n"
     ]
    }
   ],
   "source": [
    "from scipy.stats import shapiro #importamos el test de shapiro-wilk\n",
    "\n",
    "# Prueba de Shapiro-Wilk\n",
    "estadistico, p_valor = shapiro(x)\n",
    "print(f'Estadisticos = {estadistico:.3}')\n",
    "print(f'p = {p_valor:.3}')\n",
    "      \n",
    "# Interpretación\n",
    "alpha = 0.05\n",
    "if p_valor > alpha:\n",
    "   print('La muestra se aproxima a una distribución Gaussiana o Normal')\n",
    "else:\n",
    "   print('La muestra no es una distribución Gaussiana o Normal')"
   ]
  },
  {
   "cell_type": "markdown",
   "id": "45bd0a56",
   "metadata": {},
   "source": [
    "De acuerdo a este test, nuestros datos no tienen una distribución Gaussiana."
   ]
  },
  {
   "cell_type": "markdown",
   "id": "05a1fc23",
   "metadata": {},
   "source": [
    "(e) En este inciso generaremos 1000 numeros aleatorios en el intervalo $[0,1]$ para ver la distribución que tienen con un histograma y con el test de *Shapiro-Wilk*. El código es el siguiente:"
   ]
  },
  {
   "cell_type": "code",
   "execution_count": 41,
   "id": "a41f1d18",
   "metadata": {
    "scrolled": true
   },
   "outputs": [
    {
     "data": {
      "image/png": "[encoded data removed]",
      "text/plain": [
       "<Figure size 432x288 with 1 Axes>"
      ]
     },
     "metadata": {
      "needs_background": "light"
     },
     "output_type": "display_data"
    },
    {
     "name": "stdout",
     "output_type": "stream",
     "text": [
      "Estadisticos = 0.952\n",
      "p = 1.6e-17\n",
      "La muestra no es una distribución Gaussiana o Normal\n"
     ]
    }
   ],
   "source": [
    "import numpy as np \n",
    "\n",
    "#histograma\n",
    "n=1000\n",
    "x = np.random.rand(n) #generamos los n números aleatorios en el intervalo [0,1]\n",
    "plt.hist(x, 50, color = \"green\", ec = \"black\")\n",
    "plt.title(f'Histograma de {n} numeros generados por python')\n",
    "plt.xlabel('Valor de la variab')\n",
    "plt.ylabel('Frecuencia')\n",
    "plt.show()\n",
    "\n",
    "# Prueba de Shapiro-Wilk\n",
    "estadistico, p_valor = shapiro(x)\n",
    "print(f'Estadisticos = {estadistico:.3}')\n",
    "print(f'p = {p_valor:.3}')\n",
    "      \n",
    "# Interpretación\n",
    "alpha = 0.05\n",
    "if p_valor > alpha:\n",
    "   print('La muestra se aproxima a una distribución Gaussiana o Normal')\n",
    "else:\n",
    "   print('La muestra no es una distribución Gaussiana o Normal')"
   ]
  },
  {
   "cell_type": "markdown",
   "id": "c4123676",
   "metadata": {},
   "source": [
    "Hemos generado 50 marcas de clase para el histograma. Se puede ver claramente que no es una distribución Gaussiana, y esto se puede corroborar con el test de *Shapiro-Wilk* ya que arroja el mismo resultado."
   ]
  },
  {
   "cell_type": "markdown",
   "id": "68e39984",
   "metadata": {},
   "source": [
    "2. **Integración.** Elabore un programa que estime, utilizando el método de Montecarlo, las siguientes integrales:\n",
    "\n",
    "    (a) $\\displaystyle\\int_0^1 (1-x^2)^{3/2} dx$\n",
    "    \n",
    "    (b) $\\displaystyle\\int_{-2}^{2} e^{x+x^2} dx$"
   ]
  },
  {
   "cell_type": "markdown",
   "id": "ef46ffce",
   "metadata": {},
   "source": [
    "* *Solución*:\n",
    "\n",
    "El algoritmo que desarrollaremos estimará las integrales en el intervalo $[0,1]$. Por lo que, para la segunda integral utilizaremos el siguiente cambio de variable que nos permitirá restringirnos a ese intervalo.\n",
    "$$y = \\frac{x+a}{4}\\quad \\Rightarrow dy = \\frac{dx}{4}$$\n",
    "Sustituyendo el valor de $x$ encontramos que:\n",
    "$$x+x^2 = 4y -2 +(4y-2)^2 =16y^2-12y+2$$\n",
    "Por lo que:\n",
    "$$\\displaystyle\\int_{-2}^{2} e^{x+x^2} dx = \\displaystyle\\int_{0}^{1} 4e^{16y^2-12y+2} dy$$\n",
    "De esa forma calcularemos el valor para las integrales en el intervalo $[0,1]$.\n",
    "\n",
    "\n",
    "Lo primero que haremos será crear dos funciones que evaluen $f_1(x_0) = (1-x^2)^{3/2}$ y $f_2(x_0)=4e^{16x_0^2-12x_=+2}$ para un $x_0$ dado como parámetro.  \n",
    "Las funciones son las siguientes:"
   ]
  },
  {
   "cell_type": "code",
   "execution_count": 42,
   "id": "5c37d6e9",
   "metadata": {},
   "outputs": [],
   "source": [
    "import numpy as np\n",
    "\n",
    "def f1(x):\n",
    "    return (1-x**2)**(3/2)\n",
    "\n",
    "def f2(x):\n",
    "    return 4*np.exp(16*x**2 - 12*x +2)"
   ]
  },
  {
   "cell_type": "markdown",
   "id": "4dae4828",
   "metadata": {},
   "source": [
    "Ahora generaremos una función cuyo objetivo sea obtener una estimación del valor de la integral a través de la siguiente expresión:\n",
    "$$\\displaystyle\\int_{0}^{1} g(x)dx \\approx \\frac{1}{N} \\displaystyle\\sum_{i=0}^N g(U_i) \\tag{2}$$\n",
    "Donde $N$ es la cantidad de números aleatorios $U_1, U_2,...U_N$ generados en el intervalo $[0,1]$ para obener la aproximación de la integral. La función es la siguiente:"
   ]
  },
  {
   "cell_type": "code",
   "execution_count": 43,
   "id": "acfe8797",
   "metadata": {},
   "outputs": [],
   "source": [
    "def experimento(f)->float:\n",
    "    \"\"\"Esta función genera n números aleatorios y los evalua\n",
    "    con la función f para obtener la estimación de la integral en\n",
    "    [0,1]\n",
    "    \n",
    "    Parametros\n",
    "    -----------\n",
    "    f: function -> es la funcion a ser integrada\n",
    "    \n",
    "    ------\n",
    "    return: float -> es el valor de la integral de f en [0,1]    \n",
    "    \"\"\"\n",
    "    \n",
    "    n = 100 #cantidad de numeros a generar en [0,1]\n",
    "    numeros = np.random.rand(n)\n",
    "    suma = 0.0 #aquí guardaremos las evaluaciones\n",
    "    \n",
    "    for x in numeros:\n",
    "        suma += f(x) \n",
    "\n",
    "    return suma/n"
   ]
  },
  {
   "cell_type": "markdown",
   "id": "bfb4dba8",
   "metadata": {},
   "source": [
    "La función se llamo `experimento` y el único parámetro que tiene es la función $f$ a ser integrada. Lo que se hace dentro de la función es generar 100 números aleatorios en el intervalo $[0,1]$ y se utiliza (2) para obtener la aproximación deseada. Por último, la función regresa el valor númerico que se calculó para la integral. Cada vez que se calcule una integral se estará obteniendo una variable aleatoria para después obtener una mejor aproximación con el método visto en clase.\n",
    "\n",
    "Lo siguiente que haremos será crear uns función llamada `refinamiento` cuyo objetivo será mejorar la estimación hecha para la integral. Los parámetros serán la función $f$ a ser integrada y un valor $d$ para el error aceptable. El código de la función es el siguiente:"
   ]
  },
  {
   "cell_type": "code",
   "execution_count": 44,
   "id": "87d535e0",
   "metadata": {},
   "outputs": [],
   "source": [
    "def refinamiento(f, d:float):\n",
    "    \"\"\"Esta función estima el valor de la integral de forma más precisa con \n",
    "    un intervalo de confienza\n",
    "    \n",
    "    Parametros\n",
    "    -----------\n",
    "    f: function -> es la funcion a ser integrada\n",
    "    d: float -> es el valor adecuado para nuestro error cuadratico medio\n",
    "    \n",
    "    ------\n",
    "    return:  -> solo imprime el valor de la integral con el intervalo de \n",
    "                confianza junto con el numero de iteraciones hechas\n",
    "    \"\"\"\n",
    "\n",
    "    Xj = experimento(f) #obtenemos X1\n",
    "    j = 1\n",
    "    Sj = 0\n",
    "    error_cuadratico = d + 1\n",
    "    while error_cuadratico >= d:\n",
    "        Xj1 = Xj + (experimento(f) - Xj)/(j+1) #obtenemos Xj+1\n",
    "       \n",
    "        Sj1 = (1 - 1/j)*Sj + (j+1)*(Xj1 - Xj)**2 #obtenemos Sj+1\n",
    "       \n",
    "        Xj = Xj1#guardamos el Xj+1 en Xj el anterior para el siguiente cálculo\n",
    "        Sj = Sj1 #mismo que arriba\n",
    "        #print(j) #numero de experimentos\n",
    "        #print(Xj) #estimacion de la integral en el experimento j\n",
    "        error_cuadratico = (Sj/j)**(1/2)\n",
    "        j += 1\n",
    "    \n",
    "    intervalo = 1.96*error_cuadratico # calcula el intervalo de confianza\n",
    "    print(f\"Numero de experimentos realizados: {j}\")\n",
    "    print(f\"Estimacion con intervalo de confianza: {Xj:} +- {intervalo:e}\")"
   ]
  },
  {
   "cell_type": "markdown",
   "id": "107c1a8c",
   "metadata": {},
   "source": [
    "En el código anterior se usaron las siguientes fórmulas de recurrencia:\n",
    "$$\\bar{X}_{j+1} = \\bar{X_j} + \\frac{X_{j+1}-\\bar{X}_j}{j+1} \\tag{3}$$\n",
    "\n",
    "$$S_{j+1}^2 = \\left(1-\\frac{1}{j}\\right) S_j^2 + (j+1) (\\bar{X}_{j+1}-\\bar{X}_j)^2  \\tag{4}$$\n",
    "\n",
    "Donde $X_j$ son las variables aleatorias (en este caso cada experimento generado con la función `experimento`), $\\bar{X}_j$ es la media muestral y $S_j^2$ la varianza muestral. Para poder haber usado (3) y (4) se supuso que $S_1^2 = 0$ y $\\bar{X}_0 = 0$. Con estas suposiciones de (3) se obtiene que:\n",
    "$$\\bar{X}_1 = X_1$$\n",
    "Donde $X_1$ será el primer experimento generado (el primer cálculo de la integral). Esto se puede ver en la variable `Xj` que se usó al inicio de la función definida. Luego se inicializa una variable `j` en 1, se usará en la fórmula de recursión (4).  Además se inicializa la variable `error_cuadratico` con un valor mayor a $d$ para poder entrar en el ciclo while. Dentro del ciclo while se calcula el valor de $\\bar{X}_{j+1}$ y $S_{j+1}^2$ a partir de (3) y (4). Después se reescriben las variables para la siguiente iteración. Luego se calcula el error cuadrático dado por $S_j/\\sqrt{j}$ y se aumenta la variable `j` en 1 para la siguiente iteración del while. El cilo se repite hasta que se cumpla que:\n",
    "$$\\frac{S_j}{\\sqrt{j}}<d$$\n",
    "Cuando esto suceda,  habremos terminado nuestra estimación para la integral y su valor estará dado por $\\bar{X}_j$ con un intervalo de confianza dado por $1.96 \\frac{S_j}{\\sqrt{j}}$. Es decir, después de un número $j$ de iteraciones, se tendrá que:\n",
    "$$\\displaystyle\\int_{0}^{1} g(x)dx \\approx \\bar{X}_j \\pm  1.96 \\frac{S_j}{\\sqrt{j}}$$\n",
    "Finalmente, la función imprime el número de iteraciones hechas, junto con la estimación obtenida.\n",
    "\n",
    "Pongamos a prueba nuestra función para las integrales que se piden en el problema:\n",
    "\n",
    "(a) Aquí propondremos que $d=10^{-4}$. Calculando:"
   ]
  },
  {
   "cell_type": "code",
   "execution_count": 45,
   "id": "1ee590fb",
   "metadata": {},
   "outputs": [
    {
     "name": "stdout",
     "output_type": "stream",
     "text": [
      "\n",
      "Integral 1:\n",
      "Numero de experimentos realizados: 111203\n",
      "Estimacion con intervalo de confianza: 0.5890940104194493 +- 1.959988e-04\n"
     ]
    }
   ],
   "source": [
    "print(\"\\nIntegral 1:\")       \n",
    "refinamiento(f1, 10**(-4))"
   ]
  },
  {
   "cell_type": "markdown",
   "id": "85692b41",
   "metadata": {},
   "source": [
    "(b) En la segunda integral propondremos que $d=10^{-1}$. Con este valor tarda unos minutos en generar el valor numérico, por lo que no es recomendable usar más pequeños que este."
   ]
  },
  {
   "cell_type": "code",
   "execution_count": 49,
   "id": "a505ca37",
   "metadata": {},
   "outputs": [
    {
     "name": "stdout",
     "output_type": "stream",
     "text": [
      "\n",
      "Integral 2:\n",
      "Numero de experimentos realizados: 59582\n",
      "Estimacion con intervalo de confianza: 93.26780978233633 +- 1.959997e-01\n"
     ]
    }
   ],
   "source": [
    "print(\"\\nIntegral 2:\")   \n",
    "refinamiento(f2,10**(-1))    "
   ]
  },
  {
   "cell_type": "markdown",
   "id": "8efa6b0b",
   "metadata": {},
   "source": [
    "Usando Mathematica para verificar el valor numérico de las integrales, se observa que las estimaciones obtenidas fueron muy precisas, y además el intervalo de confianza ofrecido es adecuado."
   ]
  },
  {
   "cell_type": "markdown",
   "id": "721d8997",
   "metadata": {},
   "source": [
    "3. **Calculando $\\pi$.** Elabore un programa que estime, utilizando el método\n",
    "de Montecarlo, el valor de $\\pi$."
   ]
  },
  {
   "cell_type": "markdown",
   "id": "d37e4f75",
   "metadata": {},
   "source": [
    "* *Solución*:\n",
    "\n",
    "Lo primero que haremos será crear una función que estime el valor de $\\pi$ a partir de $n$ parejas $(x,y)$ con $x,y\\in [0,1]$ generadas aleatoriamente. El proceso a seguir es evaluar cuantas de puntos caen dentro de la cuarta parte de la circunferenfia unitaria. Para que un punto esté dentro debe cumlplirse que:\n",
    "$$x^2+y^2\\leq 1$$\n",
    "Supongamos que $m$ de los $n$ puntos están dentro de la circunferencia, así podemos hacer la siguiente aproximación con el área de la cuarta parte de la circunferencia unitaria.\n",
    "$$\\frac{m}{n}\\approx \\frac{\\pi}{4}$$\n",
    "Así:\n",
    "$$\\pi\\approx 4\\frac{m}{n}$$\n",
    "Ya con esto procedemos a generar la función que estimará pi. El código es el siguiente:"
   ]
  },
  {
   "cell_type": "code",
   "execution_count": 55,
   "id": "ee4c807e",
   "metadata": {},
   "outputs": [],
   "source": [
    "import numpy as np\n",
    "\n",
    "\n",
    "def experimento_pi(n:int)->float:\n",
    "    \n",
    "    \"\"\"Esta función aproxima a pi usando una relación de proporción entre areas\n",
    "    y n puntos generados aleatoriamente\n",
    "    \n",
    "    \n",
    "    Parametros\n",
    "    -----------\n",
    "        n: int -> numero de puntos a generar aleatoriamente\n",
    "    \n",
    "    ----------\n",
    "    return: float -> es la estimación de pi  \n",
    "    \"\"\"              \n",
    "    m = 0 #numero de puntos dentro de la circunferencia\n",
    "    x = np.random.rand(n)\n",
    "    y = np.random.rand(n)\n",
    "   \n",
    "    for i in range(n):\n",
    "    \n",
    "        z = x[i]**2 + y[i]**2 #Condición a cumplirse para estar dentro de la circunferencia\n",
    "        if z <= 1:\n",
    "            m += 1 #Si cae el punto aumentamos nuestro contador en 1\n",
    "   \n",
    "    return (4.0*float(m/n))\n"
   ]
  },
  {
   "cell_type": "markdown",
   "id": "3f1fec7f",
   "metadata": {},
   "source": [
    "Cada que se llame a esta función estaremos llevando a cabo un experimento. Por lo que esta función es la análoga a la función `experimento` definida en el ejercicio 2 para poder lleavar a cabo el método de Montecarlo. Así que nuestras variables aleatorias estarán dadas por la función deinifida anteiriormente `experimento_pi`.  \n",
    "Lo siguiente es adecuar a la función `refinamiento` que se uso el ejercicio 2. El ajuste queda como el siguiente:"
   ]
  },
  {
   "cell_type": "code",
   "execution_count": 56,
   "id": "dc877def",
   "metadata": {},
   "outputs": [],
   "source": [
    "def refinamiento_pi(d: float, n = 1000):\n",
    "    \"\"\"Esta función estima el valor pi más precisa con un intervalo \n",
    "    de confienza\n",
    "    \n",
    "    Parametros\n",
    "    -----------\n",
    "        n: int -> numero de puntos a generar aleatoriamente\n",
    "        d: float -> es el valor adecuado para nuestro error cuadratico medio\n",
    "        \n",
    "    ------\n",
    "    return:  -> solo imprime el valor pi con el intervalo de confianza,\n",
    "                junto con el numero de experimentos hechos\n",
    "    \"\"\"\n",
    "    \n",
    "    Xj = experimento_pi(n) #obtenemos X1\n",
    "    j = 1\n",
    "    Sj = 0\n",
    "    error_cuadratico = d + 1\n",
    "    while error_cuadratico >= d:\n",
    "        Xj1 = Xj + (experimento_pi(n) - Xj)/(j+1) #obtenemos Xj+1\n",
    "       \n",
    "        Sj1 = (1 - 1/j)*Sj + (j+1)*(Xj1 - Xj)**2 #obtenemos Sj+1\n",
    "       \n",
    "        Xj = Xj1#guardamos el Xj+1 en Xj el anterior para el siguiente cálculo\n",
    "        Sj = Sj1 #mismo que arriba\n",
    "        #print(j) #numero de experimentos\n",
    "        #print(Xj) #estimacion de la integral en el experimento j\n",
    "        error_cuadratico = (Sj/j)**(1/2)\n",
    "        j += 1\n",
    "    \n",
    "    intervalo = 1.96*error_cuadratico # calcula el intervalo de confianza\n",
    "    print(f\"Numero de experimentos realizados: {j}\")\n",
    "    print(f\"Estimacion con intervalo de confianza: {Xj:.8} +- {intervalo:e}\")"
   ]
  },
  {
   "cell_type": "markdown",
   "id": "32a496be",
   "metadata": {},
   "source": [
    "Lo único que cambió fue que en la fórmula de recursión para $\\bar{X}_{j+1}$ se llamó a la función `experimento_pi` y se colocó como parámetro $n=1000$ para que cada experimento obtenga una aproximación de $\\pi$ con mil valores. El resto de la función permanece igual como en el ejercicio 2, por lo que ya no hay necesidad de explicarlo.\n",
    "\n",
    "Pongamos a prueba el algoritmo tomando $d=10^{-3}$."
   ]
  },
  {
   "cell_type": "code",
   "execution_count": 57,
   "id": "0ddc32b5",
   "metadata": {
    "scrolled": true
   },
   "outputs": [
    {
     "name": "stdout",
     "output_type": "stream",
     "text": [
      "Numero de experimentos realizados: 2643\n",
      "Estimacion con intervalo de confianza: 3.1418388 +- 1.959960e-03\n"
     ]
    }
   ],
   "source": [
    "refinamiento_pi(10**(-3))"
   ]
  },
  {
   "cell_type": "markdown",
   "id": "fe3cba15",
   "metadata": {},
   "source": [
    "Como se puede apreciar, al igual aquí se obtuvo una aproximaicón muy cercana al valor de $pi$."
   ]
  }
 ],
 "metadata": {
  "kernelspec": {
   "display_name": "Python 3",
   "language": "python",
   "name": "python3"
  },
  "language_info": {
   "codemirror_mode": {
    "name": "ipython",
    "version": 3
   },
   "file_extension": ".py",
   "mimetype": "text/x-python",
   "name": "python",
   "nbconvert_exporter": "python",
   "pygments_lexer": "ipython3",
   "version": "3.8.8"
  }
 },
 "nbformat": 4,
 "nbformat_minor": 5
}
